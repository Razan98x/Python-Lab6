{
 "cells": [
  {
   "cell_type": "code",
   "execution_count": 1,
   "id": "f888f3b3",
   "metadata": {},
   "outputs": [
    {
     "name": "stdout",
     "output_type": "stream",
     "text": [
      "Enter the number you want to reach 111\n",
      "This is invalid number\n",
      "Enter the number you want to reach 11ssss\n",
      "This is an invalid number.\n",
      "Enter the number you want to reach 1111111111\n",
      "the owner is  Amal\n"
     ]
    }
   ],
   "source": [
    "ls = {\n",
    "    '1111111111': 'Amal',\n",
    "    '2222222222': 'Mohammed',\n",
    "    '3333333333': 'Khadijah',\n",
    "    '4444444444': 'Abdullah',\n",
    "    '5555555555': 'Rawan',\n",
    "    '6666666666': 'Faisal',\n",
    "    '7777777777': 'Layla'\n",
    "}\n",
    "while True:\n",
    "    number=input(\"Enter the number you want to reach \")\n",
    "    if not number.isnumeric():\n",
    "        print(\"This is an invalid number.\")\n",
    "    elif len(number) != 10:\n",
    "        print(\"This is invalid number\")\n",
    "    elif number in ls:\n",
    "        name=ls[number]\n",
    "        print(\"the owner is \",name)\n",
    "        break\n",
    "    else:\n",
    "        print(\"Sorry, the number is not found\")\n",
    "    "
   ]
  }
 ],
 "metadata": {
  "kernelspec": {
   "display_name": "Python 3 (ipykernel)",
   "language": "python",
   "name": "python3"
  },
  "language_info": {
   "codemirror_mode": {
    "name": "ipython",
    "version": 3
   },
   "file_extension": ".py",
   "mimetype": "text/x-python",
   "name": "python",
   "nbconvert_exporter": "python",
   "pygments_lexer": "ipython3",
   "version": "3.9.13"
  }
 },
 "nbformat": 4,
 "nbformat_minor": 5
}
